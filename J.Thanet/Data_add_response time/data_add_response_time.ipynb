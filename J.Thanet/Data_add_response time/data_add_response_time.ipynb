import pandas as pd
import numpy as np

def calculate_response_time_robo_track(file_path):
    """
    Calculates the response time for the robo_track file.
    Response time is defined as the elapsed time when the robot successfully fires.
    """
    try:
        df = pd.read_csv(file_path)
        
        # Find the first row where fired == 1
        fired_row = df[df['fired'] == 1]
        
        if not fired_row.empty:
            response_time = fired_row['elapsed_time'].iloc[0]
            print(f"Response time for {file_path}: {response_time:.3f} s")
            
            # Create a new column and populate it as requested
            df['response_time_s'] = 0.0
            df.loc[0, 'response_time_s'] = response_time
            
            # Save the new file
            new_file_path = file_path.replace('.csv', '_with_response_time.csv')
            df.to_csv(new_file_path, index=False)
            print(f"Updated data saved to {new_file_path}")
            return response_time
        else:
            print(f"No successful 'fired' events found in {file_path}.")
            df['response_time_s'] = 0.0
            new_file_path = file_path.replace('.csv', '_with_response_time.csv')
            df.to_csv(new_file_path, index=False)
            print(f"Updated data with empty response_time column saved to {new_file_path}")
            return None

    except FileNotFoundError:
        print(f"Error: The file {file_path} was not found.")
        return None
    except Exception as e:
        print(f"An error occurred: {e}")
        return None

def calculate_response_time_robot_log(file_path):
    """
    Calculates the response time for the robot_log file.
    Response time is the duration from the start of movement (first pid_output)
    to reaching the target distance.
    """
    try:
        # Load the CSV file, skipping the first row if it has no data
        df = pd.read_csv(file_path, skiprows=lambda x: x > 0 and pd.isna(pd.read_csv(file_path, nrows=1, header=None).iloc[0,4]))
        
        # Drop the initial rows with no PID output
        df = df.dropna(subset=['pid_output'])
        
        if df.empty:
            print(f"No valid movement data found in {file_path}.")
            return None

        # The movement starts at the timestamp of the first row with a valid pid_output
        start_time_unix = df['time'].iloc[0]
        target_distance = df['target_distance'].iloc[0]
        
        # The movement ends when the relative position is close to the target distance
        # We find the last row where the relative position is within the tolerance (0.02 from the code)
        end_rows = df[abs(df['relative_position'] - target_distance) < 0.02]
        
        if not end_rows.empty:
            end_time_unix = end_rows['time'].iloc[-1]
            response_time = end_time_unix - start_time_unix
            print(f"Response time for {file_path}: {response_time:.3f} s")
            
            # Create a new column and populate it as requested
            df['response_time_s'] = 0.0
            df.loc[df.index[0], 'response_time_s'] = response_time
            
            # Save the new file
            new_file_path = file_path.replace('.csv', '_with_response_time.csv')
            df.to_csv(new_file_path, index=False)
            print(f"Updated data saved to {new_file_path}")
            return response_time
        else:
            print(f"Target distance of {target_distance} was not reached in {file_path}.")
            df['response_time_s'] = 0.0
            new_file_path = file_path.replace('.csv', '_with_response_time.csv')
            df.to_csv(new_file_path, index=False)
            print(f"Updated data with empty response_time column saved to {new_file_path}")
            return None

    except FileNotFoundError:
        print(f"Error: The file {file_path} was not found.")
        return None
    except Exception as e:
        print(f"An error occurred: {e}")
        return None

if __name__ == '__main__':
    # Define file paths
    
    robo_track_file = 'Robot_Module_2-1/J.Thanet/Lab02/data/robo_track_1349_P160_I3-0_D4.csv'
    robot_log_file = 'Robot_Module_2-1/J.Thanet/Draw_square/data/robot_log_23_08_54_P2-1_I5-0_D0_ramp0.csv'

    # Process each file
    print("--- Processing robo_track file ---")
    calculate_response_time_robo_track(robo_track_file)
    
    print("\n--- Processing robot_log file ---")
    calculate_response_time_robot_log(robot_log_file)
