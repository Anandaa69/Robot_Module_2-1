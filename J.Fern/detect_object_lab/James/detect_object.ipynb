{
 "cells": [
  {
   "cell_type": "code",
   "execution_count": null,
   "id": "25b54659",
   "metadata": {},
   "outputs": [],
   "source": [
    "import cv2\n",
    "import numpy as np\n",
    "import math\n",
    "import matplotlib.pyplot as plt"
   ]
  },
  {
   "cell_type": "code",
   "execution_count": null,
   "id": "0079a662",
   "metadata": {},
   "outputs": [],
   "source": [
    "img = cv2.imread(\"../../../image/template/template_pic1_x_573_y_276_w_115_h_312.jpg\")\n",
    "\n",
    "# ตัดส่วนบนออกไป 50 พิกเซล\n",
    "# img = img[220:, :]   # [rows, cols] → ตัด row ด้านบน"
   ]
  },
  {
   "cell_type": "code",
   "execution_count": null,
   "id": "95604698",
   "metadata": {},
   "outputs": [],
   "source": [
    "img_rgb = cv2.cvtColor(img, cv2.COLOR_BGR2RGB)\n",
    "\n",
    "plt.imshow(img_rgb)\n",
    "plt.title(\"Original Image\")\n",
    "plt.axis('off')\n",
    "plt.show()"
   ]
  },
  {
   "cell_type": "code",
   "execution_count": null,
   "id": "ef3ae6b3",
   "metadata": {},
   "outputs": [],
   "source": [
    "# blur = cv2.GaussianBlur(img, (5, 5), 0)"
   ]
  },
  {
   "cell_type": "code",
   "execution_count": null,
   "id": "216a4a75",
   "metadata": {},
   "outputs": [],
   "source": [
    "hsv = cv2.cvtColor(img, cv2.COLOR_BGR2HSV)"
   ]
  },
  {
   "cell_type": "code",
   "execution_count": null,
   "id": "d7cb6eaa",
   "metadata": {},
   "outputs": [],
   "source": [
    "# ช่วงค่าต่ำสุด ของสีชมพู\n",
    "lower_pink = np.array([120, 20, 80])\n",
    "\n",
    "# ช่วงค่าสูงสุด ของสีชมพู\n",
    "upper_pink = np.array([170, 100, 200])\n"
   ]
  },
  {
   "cell_type": "code",
   "execution_count": null,
   "id": "e28a3e7e",
   "metadata": {},
   "outputs": [],
   "source": [
    "img_rgb = cv2.cvtColor(img, cv2.COLOR_BGR2RGB)"
   ]
  },
  {
   "cell_type": "code",
   "execution_count": null,
   "id": "78f7b159",
   "metadata": {},
   "outputs": [],
   "source": [
    "mask = cv2.inRange(hsv, lower_pink, upper_pink)"
   ]
  },
  {
   "cell_type": "code",
   "execution_count": null,
   "id": "d80949e3",
   "metadata": {},
   "outputs": [],
   "source": [
    "mask_rgb = cv2.cvtColor(mask, cv2.COLOR_BGR2RGB)\n",
    "\n",
    "plt.imshow(mask_rgb)\n",
    "plt.title(\"Mask Image\")\n",
    "plt.axis('off')\n",
    "plt.show()"
   ]
  },
  {
   "cell_type": "code",
   "execution_count": null,
   "id": "760eaef1",
   "metadata": {},
   "outputs": [],
   "source": [
    "mask = cv2.medianBlur(mask, 5)\n",
    "\n",
    "kernel = np.ones((7, 7), np.uint8)\n",
    "\n",
    "# ปิดช่องว่างเล็กๆ\n",
    "mask = cv2.morphologyEx(mask, cv2.MORPH_CLOSE, kernel)"
   ]
  },
  {
   "cell_type": "code",
   "execution_count": null,
   "id": "2c874201",
   "metadata": {},
   "outputs": [],
   "source": [
    "mask_rgb = cv2.cvtColor(mask, cv2.COLOR_BGR2RGB)\n",
    "\n",
    "plt.imshow(mask_rgb)\n",
    "plt.title(\"Mask Image with Median filter\")\n",
    "plt.axis('off')\n",
    "plt.show()"
   ]
  },
  {
   "cell_type": "code",
   "execution_count": null,
   "id": "adaa2169",
   "metadata": {},
   "outputs": [],
   "source": [
    "contours, _ = cv2.findContours(mask.copy(), cv2.RETR_EXTERNAL, cv2.CHAIN_APPROX_SIMPLE)"
   ]
  },
  {
   "cell_type": "code",
   "execution_count": null,
   "id": "0216d813",
   "metadata": {},
   "outputs": [],
   "source": [
    "# กำหนดตัวแปรสำหรับเก็บค่าพื้นที่มากที่สุดและ contour ที่ใหญ่ที่สุด\n",
    "max_area = 0\n",
    "largest_contour = None\n",
    "\n",
    "# วนลูปผ่านทุก contour\n",
    "for contour in contours:\n",
    "    # คำนวณพื้นที่ของ contour ปัจจุบัน\n",
    "    area = cv2.contourArea(contour)\n",
    "    \n",
    "    # ถ้าพื้นที่ปัจจุบันมากกว่าพื้นที่ที่เคยหาได้\n",
    "    if area > max_area:\n",
    "        # อัปเดตค่าพื้นที่และ contour\n",
    "        max_area = area\n",
    "        largest_contour = contour\n",
    "\n",
    "print(f\"Detected ball area: {max_area} pixels\")"
   ]
  },
  {
   "cell_type": "code",
   "execution_count": null,
   "id": "ea6a5301",
   "metadata": {},
   "outputs": [],
   "source": [
    "x, y, w, h = cv2.boundingRect(largest_contour)"
   ]
  },
  {
   "cell_type": "code",
   "execution_count": null,
   "id": "96c5acaa",
   "metadata": {},
   "outputs": [],
   "source": [
    "bbox_area = w * h"
   ]
  },
  {
   "cell_type": "code",
   "execution_count": null,
   "id": "f1cfe888",
   "metadata": {},
   "outputs": [],
   "source": [
    "img_box = img.copy()\n",
    "# พารามิเตอร์: ภาพ, จุดมุมบนซ้าย, จุดมุมล่างขวา, สี (BGR), ความหนาเส้น\n",
    "cv2.rectangle(img_box, (x, y), (x + w, y + h), (255, 0, 0), 2)"
   ]
  },
  {
   "cell_type": "code",
   "execution_count": null,
   "id": "c3c6bcd7",
   "metadata": {},
   "outputs": [],
   "source": [
    "img_box_plot = cv2.cvtColor(img_box, cv2.COLOR_BGR2RGB)\n",
    "\n",
    "plt.imshow(img_box_plot)\n",
    "plt.title(\"With Bounding Box\")\n",
    "plt.axis('off')\n",
    "plt.show()"
   ]
  },
  {
   "cell_type": "code",
   "execution_count": null,
   "id": "d3a98e95",
   "metadata": {},
   "outputs": [],
   "source": [
    "print(f'x={x}, y={y}, w={w}, h={h}')"
   ]
  }
 ],
 "metadata": {
  "kernelspec": {
   "display_name": ".plot_venv (3.12.10)",
   "language": "python",
   "name": "python3"
  },
  "language_info": {
   "codemirror_mode": {
    "name": "ipython",
    "version": 3
   },
   "file_extension": ".py",
   "mimetype": "text/x-python",
   "name": "python",
   "nbconvert_exporter": "python",
   "pygments_lexer": "ipython3",
   "version": "3.12.10"
  }
 },
 "nbformat": 4,
 "nbformat_minor": 5
}
