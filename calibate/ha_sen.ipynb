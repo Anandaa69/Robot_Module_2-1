{
 "cells": [
  {
   "cell_type": "code",
   "execution_count": null,
   "id": "34849369",
   "metadata": {},
   "outputs": [],
   "source": [
    "import numpy as np\n",
    "from sklearn.linear_model import LinearRegression\n",
    "import matplotlib.pyplot as plt\n",
    "\n",
    "# ข้อมูล\n",
    "sensor_readings = [160, 263, 410, 495, 598, 723, 826, 931, 1041, 1259, \n",
    "                   1453, 1675, 1885, 2095, 2312, 2508, 2708, 2914, 3120, 3279, 3469]\n",
    "actual_distances = [20, 30, 40, 50, 60, 70, 80, 90, 100, 120, \n",
    "                    140, 160, 180, 200, 220, 240, 260, 280, 300, 320, 340]\n",
    "\n",
    "# แปลงข้อมูลให้อยู่ในรูป numpy array\n",
    "X = np.array(sensor_readings).reshape(-1, 1)  # feature ต้องเป็น 2D\n",
    "y = np.array(actual_distances)\n",
    "\n",
    "# สร้างโมเดล Linear Regression\n",
    "model = LinearRegression()\n",
    "model.fit(X, y)\n",
    "\n",
    "# หาค่าสมการ y = a*x + b\n",
    "a = model.coef_[0]   # ค่าสโลป\n",
    "b = model.intercept_ # ค่า intercept\n",
    "\n",
    "print(f\"สมการเส้นตรง: y = {a:.4f} * x + {b:.4f}\")\n",
    "\n",
    "# ทำนายค่า (prediction)\n",
    "y_pred = model.predict(X)\n",
    "\n",
    "# วาดกราฟ\n",
    "plt.scatter(sensor_readings, actual_distances, color='blue', label=\"Actual data\")\n",
    "plt.plot(sensor_readings, y_pred, color='red', label=\"Linear Regression\")\n",
    "plt.xlabel(\"Sensor Readings (raw)\")\n",
    "plt.ylabel(\"Actual Distance (cm)\")\n",
    "plt.legend()\n",
    "plt.show()\n"
   ]
  }
 ],
 "metadata": {
  "language_info": {
   "name": "python"
  }
 },
 "nbformat": 4,
 "nbformat_minor": 5
}
