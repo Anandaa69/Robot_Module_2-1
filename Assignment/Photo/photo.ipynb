{
 "cells": [
  {
   "cell_type": "code",
   "execution_count": null,
   "id": "d186da13",
   "metadata": {},
   "outputs": [
    {
     "ename": "ModuleNotFoundError",
     "evalue": "No module named 'robomaster'",
     "output_type": "error",
     "traceback": [
      "\u001b[31m---------------------------------------------------------------------------\u001b[39m",
      "\u001b[31mModuleNotFoundError\u001b[39m                       Traceback (most recent call last)",
      "\u001b[36mCell\u001b[39m\u001b[36m \u001b[39m\u001b[32mIn[3]\u001b[39m\u001b[32m, line 1\u001b[39m\n\u001b[32m----> \u001b[39m\u001b[32m1\u001b[39m \u001b[38;5;28;01mimport\u001b[39;00m\u001b[38;5;250m \u001b[39m\u001b[34;01mrobomaster\u001b[39;00m\n",
      "\u001b[31mModuleNotFoundError\u001b[39m: No module named 'robomaster'"
     ]
    }
   ],
   "source": [
    "import os\n",
    "import cv2\n",
    "from matplotlib import pyplot as plt\n",
    "\n",
    "# 📂 โฟลเดอร์ที่เก็บภาพ\n",
    "photo_path = r\"D:\\downsyndrome\\year2_1\\Robot_Module_2-1\\Assignment\\Photo\"\n",
    "\n",
    "# เลือกรูปทั้งหมดในโฟลเดอร์\n",
    "photos = [f for f in os.listdir(photo_path) if f.endswith(\".jpg\")]\n",
    "photos.sort()\n",
    "\n",
    "# แสดงภาพล่าสุด\n",
    "latest_photo = os.path.join(photo_path, photos[-1])\n",
    "img = cv2.imread(latest_photo)\n",
    "img_rgb = cv2.cvtColor(img, cv2.COLOR_BGR2RGB)\n",
    "\n",
    "plt.imshow(img_rgb)\n",
    "plt.title(f\"Latest Photo: {photos[-1]}\")\n",
    "plt.axis(\"off\")\n",
    "plt.show()\n"
   ]
  },
  {
   "cell_type": "code",
   "execution_count": 2,
   "id": "7373e050",
   "metadata": {},
   "outputs": [
    {
     "ename": "ModuleNotFoundError",
     "evalue": "No module named 'robomaster'",
     "output_type": "error",
     "traceback": [
      "\u001b[31m---------------------------------------------------------------------------\u001b[39m",
      "\u001b[31mModuleNotFoundError\u001b[39m                       Traceback (most recent call last)",
      "\u001b[36mCell\u001b[39m\u001b[36m \u001b[39m\u001b[32mIn[2]\u001b[39m\u001b[32m, line 3\u001b[39m\n\u001b[32m      1\u001b[39m \u001b[38;5;28;01mimport\u001b[39;00m\u001b[38;5;250m \u001b[39m\u001b[34;01mtime\u001b[39;00m\n\u001b[32m      2\u001b[39m \u001b[38;5;28;01mimport\u001b[39;00m\u001b[38;5;250m \u001b[39m\u001b[34;01mcv2\u001b[39;00m\n\u001b[32m----> \u001b[39m\u001b[32m3\u001b[39m \u001b[38;5;28;01mfrom\u001b[39;00m\u001b[38;5;250m \u001b[39m\u001b[34;01mrobomaster\u001b[39;00m\u001b[38;5;250m \u001b[39m\u001b[38;5;28;01mimport\u001b[39;00m robot\n\u001b[32m      4\u001b[39m \u001b[38;5;28;01mfrom\u001b[39;00m\u001b[38;5;250m \u001b[39m\u001b[34;01mrobomaster\u001b[39;00m\u001b[38;5;250m \u001b[39m\u001b[38;5;28;01mimport\u001b[39;00m camera\n\u001b[32m      7\u001b[39m \u001b[38;5;28;01mif\u001b[39;00m \u001b[34m__name__\u001b[39m == \u001b[33m'\u001b[39m\u001b[33m__main__\u001b[39m\u001b[33m'\u001b[39m:\n",
      "\u001b[31mModuleNotFoundError\u001b[39m: No module named 'robomaster'"
     ]
    }
   ],
   "source": [
    "import time\n",
    "import cv2\n",
    "from robomaster import robot\n",
    "from robomaster import camera\n",
    "\n",
    "\n",
    "if __name__ == '__main__':\n",
    "    ep_robot = robot.Robot()\n",
    "    ep_robot.initialize(conn_type=\"ap\")\n",
    "\n",
    "\n",
    "    ep_camera = ep_robot.camera\n",
    "    ep_gimbal = ep_robot.gimbal\n",
    "    ep_gimbal.recenter().wait_for_completed()\n",
    "    ep_gimbal.move(pitch=0,yaw=0).wait_for_completed()\n",
    "    # เริ่มต้น video stream (ไม่ต้อง display=True เพราะเราจะใช้ OpenCV แสดงผล)\n",
    "    ep_camera.start_video_stream(display=False, resolution=camera.STREAM_720P)\n",
    "\n",
    "    # ใช้ cv2 window เปิดภาพ\n",
    "    cv2.namedWindow(\"RoboMaster Camera\", cv2.WINDOW_NORMAL)\n",
    "\n",
    "    while True:\n",
    "        img = ep_camera.read_cv2_image(strategy=\"newest\", timeout=1)  # ดึง frame ล่าสุด\n",
    "        if img is not None:\n",
    "            cv2.imshow(\"RoboMaster Camera\", img)\n",
    "\n",
    "        key = cv2.waitKey(1) & 0xFF\n",
    "\n",
    "        if key == ord('c'):  # ถ้ากด c → แคปภาพ\n",
    "            filename = f\"capture_{int(time.time())}.jpg\"\n",
    "            cv2.imwrite(filename, img)\n",
    "            print(f\"📸 Saved {filename}\")\n",
    "\n",
    "        elif key == ord('q'):  # กด q เพื่อออก\n",
    "            break\n",
    "\n",
    "    # ปิดการทำงาน\n",
    "    ep_camera.stop_video_stream()\n",
    "    cv2.destroyAllWindows()\n",
    "    ep_robot.close()\n",
    "    \n"
   ]
  }
 ],
 "metadata": {
  "kernelspec": {
   "display_name": "Python 3",
   "language": "python",
   "name": "python3"
  },
  "language_info": {
   "codemirror_mode": {
    "name": "ipython",
    "version": 3
   },
   "file_extension": ".py",
   "mimetype": "text/x-python",
   "name": "python",
   "nbconvert_exporter": "python",
   "pygments_lexer": "ipython3",
   "version": "3.11.9"
  }
 },
 "nbformat": 4,
 "nbformat_minor": 5
}
